{
 "cells": [
  {
   "cell_type": "code",
   "execution_count": 24,
   "id": "0d79a483",
   "metadata": {},
   "outputs": [
    {
     "name": "stdout",
     "output_type": "stream",
     "text": [
      "No solution\n"
     ]
    }
   ],
   "source": [
    "from ortools.sat.python import cp_model\n",
    "N = 12\n",
    "P = 4\n",
    "credits = [2,1,2,1,3,2,1,3,2,3,1,3]\n",
    "\n",
    "orderCourseLst = [(1,0),(5,8),(4,5),(4,7),(3,10),(5,11),(1,6),(2,9),(4,6),(7,10),(3,11)]\n",
    "\n",
    "alpha = 3\n",
    "beta = 3\n",
    "lamb = 5\n",
    "gamma = 7\n",
    "\n",
    "model = cp_model.CpModel()\n",
    "\n",
    "x = []\n",
    "for i in range(P):\n",
    "    t = []\n",
    "    for j in range(N):\n",
    "        t.append(model.NewIntVar(0,1,'x[' + str(i) + ',' + str(j) + ']'))\n",
    "    x.append(t)\n",
    "for j in range(N):\n",
    "    model.Add(sum(x[i][j] for i in range(P))==1)\n",
    "for i in range(P):\n",
    "    model.Add(sum(x[i][j] for j in range(N))>=alpha)\n",
    "    model.Add(sum(x[i][j] for j in range(N))<=beta)\n",
    "for i in range(P):\n",
    "    model.Add(sum(x[i][j]*credits[j] for j in range(N))>=lamb)\n",
    "    model.Add(sum(x[i][j]*credits[j] for j in range(N))<=gamma)\n",
    "\n",
    "for item in orderCourseLst:\n",
    "    i = item[0]\n",
    "    j = item[1]\n",
    "    \n",
    "    for q in range(P):\n",
    "        for p in range(q+1):\n",
    "            \n",
    "            b = model.NewBoolVar('b')\n",
    "            model.Add(x[q][i]==1).OnlyEnforceIf(b)\n",
    "            model.Add(x[q][i]!=1).OnlyEnforceIf(b.Not())\n",
    "            model.Add(x[p][j]==1).OnlyEnforceIf(b)\n",
    "            \n",
    "solver = cp_model.CpSolver()\n",
    "status = solver.Solve(model)\n",
    "\n",
    "if status == cp_model.OPTIMAL or status == cp_model.FEASIBLE:\n",
    "    print(f'Total cost = {solver.ObjectiveValue()}')\n",
    "    print()\n",
    "    for i in range(P):\n",
    "        for j in range(N):\n",
    "            if solver.BooleanValue(x[i][j]):\n",
    "                print(f'Mon hoc {j} duoc phan cho ky {i}')\n",
    "else:\n",
    "    print('No solution')\n",
    "          \n",
    "            \n",
    "\n",
    "                "
   ]
  },
  {
   "cell_type": "code",
   "execution_count": null,
   "id": "a024d6b9",
   "metadata": {},
   "outputs": [],
   "source": []
  },
  {
   "cell_type": "code",
   "execution_count": 23,
   "id": "23f98372",
   "metadata": {},
   "outputs": [
    {
     "name": "stdout",
     "output_type": "stream",
     "text": [
      "constraints {\n",
      "  enforcement_literal: -81\n",
      "  linear {\n",
      "    vars: 82\n",
      "    vars: 81\n",
      "    coeffs: 2\n",
      "    coeffs: 1\n",
      "    domain: 5\n",
      "    domain: 5\n",
      "  }\n",
      "}\n",
      "\n"
     ]
    }
   ],
   "source": [
    "b = model.NewBoolVar('b')\n",
    "x = model.NewIntVar(0, 10, 'x')\n",
    "y = model.NewIntVar(0, 10, 'y')\n",
    "\n",
    "mod = cp_model.CpModel()\n",
    "mod.Add(x + 2 * y == 5).OnlyEnforceIf(b.Not())\n",
    "print(mod)"
   ]
  }
 ],
 "metadata": {
  "kernelspec": {
   "display_name": "Python 3 (ipykernel)",
   "language": "python",
   "name": "python3"
  },
  "language_info": {
   "codemirror_mode": {
    "name": "ipython",
    "version": 3
   },
   "file_extension": ".py",
   "mimetype": "text/x-python",
   "name": "python",
   "nbconvert_exporter": "python",
   "pygments_lexer": "ipython3",
   "version": "3.10.9"
  }
 },
 "nbformat": 4,
 "nbformat_minor": 5
}
