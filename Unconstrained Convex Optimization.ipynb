{
 "cells": [
  {
   "cell_type": "markdown",
   "id": "41d3c11c",
   "metadata": {},
   "source": [
    "# GRADIENT DESCENT METHOD"
   ]
  },
  {
   "cell_type": "code",
   "execution_count": 3,
   "id": "ccc5fc3d",
   "metadata": {},
   "outputs": [
    {
     "name": "stdout",
     "output_type": "stream",
     "text": [
      "-1.0 -1.0 -1.0\n",
      "-3.0\n"
     ]
    }
   ],
   "source": [
    "import numpy as np\n",
    "f = lambda x1,x2,x3: x1**2 + x2**2 + x3**3 - x1*x2 - x2*x3 + x1 + x3\n",
    "df = lambda x1,x2,x3:[2*x1-x2+1,2*x2-x1-x3,2*x3-x2+1]\n",
    "\n",
    "x1,x2,x3 = 0,0,0 # Initialize\n",
    "for i in range(1000):\n",
    "    [D1,D2,D3] = df(x1,x2,x3)\n",
    "    A = 2*x1*D1 + 2*x2*D2 + 2*x3*D3 - x1*D2 -x2*D1 -x2*D3 - x3*D2 + D1 + D3\n",
    "    B = 2*D1*D1 + 2*D2*D2 + 2*D3*D3 - 2*D1*D2 -2*D2*D3\n",
    "    if B == 0:\n",
    "        break\n",
    "    alpha = A/B\n",
    "    x1 = x1 - alpha*D1\n",
    "    x2 = x2 - alpha*D2\n",
    "    x3 = x3 - alpha*D3\n",
    "print(x1,x2,x3)\n",
    "print(f(x1,x2,x3))"
   ]
  }
 ],
 "metadata": {
  "kernelspec": {
   "display_name": "Python 3 (ipykernel)",
   "language": "python",
   "name": "python3"
  },
  "language_info": {
   "codemirror_mode": {
    "name": "ipython",
    "version": 3
   },
   "file_extension": ".py",
   "mimetype": "text/x-python",
   "name": "python",
   "nbconvert_exporter": "python",
   "pygments_lexer": "ipython3",
   "version": "3.10.9"
  }
 },
 "nbformat": 4,
 "nbformat_minor": 5
}
