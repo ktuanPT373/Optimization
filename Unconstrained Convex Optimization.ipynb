{
 "cells": [
  {
   "cell_type": "markdown",
   "id": "41d3c11c",
   "metadata": {},
   "source": [
    "# GRADIENT DESCENT METHOD"
   ]
  },
  {
   "cell_type": "code",
   "execution_count": null,
   "id": "15da93ef",
   "metadata": {},
   "outputs": [],
   "source": [
    "# I didnt intend to create this block :>, how to delete this ?"
   ]
  },
  {
   "cell_type": "code",
   "execution_count": 3,
   "id": "ccc5fc3d",
   "metadata": {},
   "outputs": [
    {
     "name": "stdout",
     "output_type": "stream",
     "text": [
      "-1.0 -1.0 -1.0\n",
      "-3.0\n"
     ]
    }
   ],
   "source": [
    "import numpy as np\n",
    "f = lambda x1,x2,x3: x1**2 + x2**2 + x3**3 - x1*x2 - x2*x3 + x1 + x3\n",
    "df = lambda x1,x2,x3:[2*x1-x2+1,2*x2-x1-x3,2*x3-x2+1]\n",
    "\n",
    "x1,x2,x3 = 0,0,0 # Initialize\n",
    "for i in range(1000):\n",
    "    [D1,D2,D3] = df(x1,x2,x3)\n",
    "    A = 2*x1*D1 + 2*x2*D2 + 2*x3*D3 - x1*D2 -x2*D1 -x2*D3 - x3*D2 + D1 + D3\n",
    "    B = 2*D1*D1 + 2*D2*D2 + 2*D3*D3 - 2*D1*D2 -2*D2*D3\n",
    "    if B == 0:\n",
    "        break\n",
    "    alpha = A/B\n",
    "    x1 = x1 - alpha*D1\n",
    "    x2 = x2 - alpha*D2\n",
    "    x3 = x3 - alpha*D3\n",
    "print(x1,x2,x3)\n",
    "print(f(x1,x2,x3))"
   ]
  },
  {
   "cell_type": "markdown",
   "id": "ab8a8ec3",
   "metadata": {},
   "source": [
    "# NEWTON METHOD"
   ]
  },
  {
   "cell_type": "code",
   "execution_count": 7,
   "id": "40d75281",
   "metadata": {},
   "outputs": [
    {
     "name": "stdout",
     "output_type": "stream",
     "text": [
      "main start...\n",
      "df=  [1 0 1]\n",
      "Step 0 : [-1. -1. -1.] f =  -1.0000000000000004\n",
      "df=  [0.00000000e+00 0.00000000e+00 3.33066907e-16]\n",
      "Step 1 : [-1. -1. -1.] f =  -1.0\n",
      "df=  [0. 0. 0.]\n"
     ]
    }
   ],
   "source": [
    "import numpy as np\n",
    "\n",
    "def newton(f,df,Hf, x0):\n",
    "    x = x0\n",
    "    for i in range(10):\n",
    "        iH = np.linalg.inv(Hf(x))\n",
    "        D = np.array(df(x)).T\n",
    "        print('df= ',D)\n",
    "        y = iH.dot(D)\n",
    "        if np.linalg.norm(y) == 0:\n",
    "            break\n",
    "        x = x - y\n",
    "        print('Step',i,':',x,'f = ',f(x))\n",
    "def main():\n",
    "    print('main start...')\n",
    "    f = lambda x: x[0]**2 + x[1]**2 + x[2]**2 -x[0]*x[1] - x[1]*x[2] +x[0] +x[2]\n",
    "    df = lambda x: [2*x[0]-x[1]+1,2*x[1]-x[0]-x[2],2*x[2]-x[1]+1]\n",
    "    Hf = lambda x:[[2,-1,0],[-1,2,-1],[0,-1,2]]\n",
    "    x0 = np.array([0,0,0]).T\n",
    "    newton(f,df,Hf,x0)\n",
    "\n",
    "if __name__ == '__main__':\n",
    "    main()"
   ]
  },
  {
   "cell_type": "markdown",
   "id": "029e24e9",
   "metadata": {},
   "source": [
    "# SUBGRADIENT METHOD ?"
   ]
  },
  {
   "cell_type": "code",
   "execution_count": 20,
   "id": "95fbcf09",
   "metadata": {},
   "outputs": [
    {
     "name": "stdout",
     "output_type": "stream",
     "text": [
      "5.0 [-3.  2. -2.  7.]\n",
      "rs = -2375.0\n"
     ]
    }
   ],
   "source": [
    "import numpy as np\n",
    "def solve(A,b):\n",
    "    f = lambda x: np.max(A.dot(x) + b)\n",
    "    sg = lambda x: A[np.argmax(A.dot(x) + b)]\n",
    "    x = np.array(x0).T\n",
    "    f_best = f(x)\n",
    "    for i in range(1000):\n",
    "        alpha = 2\n",
    "        x = x-alpha*sg(x)\n",
    "        if f_best > f(x):\n",
    "            f_best = f(x)\n",
    "    return f_best\n",
    "def main():\n",
    "    A = np.array([[1,-2,3,-5],[2,-2,1,1],[-3,2,-2,7]],dtype='double')\n",
    "    b = np.array([3,4,5]).T\n",
    "    rs = solve(A,b)\n",
    "    print('rs =',rs)\n",
    "\n",
    "if __name__ == '__main__':\n",
    "    main()"
   ]
  }
 ],
 "metadata": {
  "kernelspec": {
   "display_name": "Python 3 (ipykernel)",
   "language": "python",
   "name": "python3"
  },
  "language_info": {
   "codemirror_mode": {
    "name": "ipython",
    "version": 3
   },
   "file_extension": ".py",
   "mimetype": "text/x-python",
   "name": "python",
   "nbconvert_exporter": "python",
   "pygments_lexer": "ipython3",
   "version": "3.10.9"
  }
 },
 "nbformat": 4,
 "nbformat_minor": 5
}
