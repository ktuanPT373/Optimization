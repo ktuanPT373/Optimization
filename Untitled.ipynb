{
 "cells": [
  {
   "cell_type": "raw",
   "id": "14d5dc07",
   "metadata": {},
   "source": [
    "# Description\n",
    "There are N fields 1, 2, . . ., N that grow the same agricultural product. The field i has amount of product d(i) and needs to be harvested on one day from s(i) to e(i). The processing factory has the capacity M which is the maximum amount of product it can process each day. Moreover, if the total amount of product available is less than m, the factory will not work (as the efficiency is not good). \n",
    "A field can be selected to be harvested or not. Compute a plan for harvesting the product such that the total amount of product harvested in the plan is maximal.\n",
    "\n",
    "A solution is represented by x{1], x[2],  . . ., x[N] in which x[i] is the day the field i is harvested, and x[i] = -1 if the field is not harvested.\n",
    "\n",
    "\n",
    "Input\n",
    "Line 1: contains 3 positive integers N, m, M (1 <= N <= 10000, 1 <= m <= M <= 10000)\n",
    "Line i+1 (i = 1, 2, . . ., N): contains 3 positive integers d(i), s(i) and e(i)   (1 <= d(i) <= 100, 1 <= s(i) <= e(i) <= 10000)\n",
    "\n",
    "\n",
    "Output\n",
    "Line 1: contains an integer M which is the number of fields being harvested\n",
    "Each subsequent line contains i and x(i) (separated by a SPACE character) in case x[i] > 0  (i = 1, 2, . . . , N)"
   ]
  },
  {
   "cell_type": "code",
   "execution_count": 48,
   "id": "6a17c137",
   "metadata": {},
   "outputs": [
    {
     "name": "stdout",
     "output_type": "stream",
     "text": [
      "0\n"
     ]
    },
    {
     "ename": "NameError",
     "evalue": "name 'x' is not defined",
     "output_type": "error",
     "traceback": [
      "\u001b[0;31m---------------------------------------------------------------------------\u001b[0m",
      "\u001b[0;31mNameError\u001b[0m                                 Traceback (most recent call last)",
      "Cell \u001b[0;32mIn[48], line 43\u001b[0m\n\u001b[1;32m     41\u001b[0m backtrack(\u001b[38;5;241m0\u001b[39m)\n\u001b[1;32m     42\u001b[0m \u001b[38;5;28mprint\u001b[39m(max_cost)\n\u001b[0;32m---> 43\u001b[0m \u001b[38;5;28mprint\u001b[39m(\u001b[43mx\u001b[49m)\n",
      "\u001b[0;31mNameError\u001b[0m: name 'x' is not defined"
     ]
    }
   ],
   "source": [
    "# n : number of fields\n",
    "# d[i] : the productive of the field i\n",
    "# s[i], e[i] : the start and end day in which the field i can be harvesred\n",
    "# x[i][j] = {0,1} : whether the field i is harvested in the day j\n",
    "# Goal : Optimize di*x[i][j] with the constraint : m <= sum(x[i][j]) for every in possible <= M\n",
    "import numpy as np\n",
    "\n",
    "n = 10\n",
    "m = 7\n",
    "M = 24\n",
    "d = [8,8,4,8,7,7,1,2,6,7]\n",
    "s = [2,1,1,0,2,0,0,0,0,0]\n",
    "e = [6,5,5,3,6,3,3,3,3,2]\n",
    "\n",
    "md = max(e)+1\n",
    "\n",
    "max_cost = 0\n",
    "best_config = [-1]*n\n",
    "def check(i,j,x):\n",
    "    if s[i] <= j <= e[i] and sum(x[j]) + d[i] <= M:\n",
    "        return True\n",
    "    return False\n",
    "\n",
    "def backtrack(i, cost=0, x = [[]]*(md), used = [-1]*n):\n",
    "    global max_cost\n",
    "    global best_config\n",
    "    for j in range(md):\n",
    "        if check(i,j,x):\n",
    "            cost += d[i]\n",
    "            x[j].append(d[i])\n",
    "            used[i] = j\n",
    "            if i == n-1:\n",
    "                max_cost = max(max_cost, cost)\n",
    "                print(max_cost)\n",
    "            else:\n",
    "                backtrack(i+1, cost, x, used)\n",
    "            cost -= d[i]\n",
    "            x[j].pop()\n",
    "            used[i] = -1\n",
    "        \n",
    "backtrack(0)\n",
    "print(max_cost)\n",
    "print(x)"
   ]
  },
  {
   "cell_type": "code",
   "execution_count": 39,
   "id": "678c0173",
   "metadata": {},
   "outputs": [
    {
     "name": "stdout",
     "output_type": "stream",
     "text": [
      "[[], [], [], [], [], [], [], []]\n"
     ]
    }
   ],
   "source": [
    "print([[]]*(md+1))"
   ]
  }
 ],
 "metadata": {
  "kernelspec": {
   "display_name": "Python 3 (ipykernel)",
   "language": "python",
   "name": "python3"
  },
  "language_info": {
   "codemirror_mode": {
    "name": "ipython",
    "version": 3
   },
   "file_extension": ".py",
   "mimetype": "text/x-python",
   "name": "python",
   "nbconvert_exporter": "python",
   "pygments_lexer": "ipython3",
   "version": "3.10.9"
  }
 },
 "nbformat": 4,
 "nbformat_minor": 5
}
