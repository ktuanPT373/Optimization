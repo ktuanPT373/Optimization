{
 "cells": [
  {
   "cell_type": "code",
   "execution_count": 2,
   "id": "f84e2643",
   "metadata": {},
   "outputs": [
    {
     "name": "stdout",
     "output_type": "stream",
     "text": [
      "10\n",
      "1 3\n",
      "2 2\n",
      "3 2\n",
      "4 1\n",
      "5 3\n",
      "6 1\n",
      "7 1\n",
      "8 1\n",
      "9 1\n",
      "10 2\n",
      "[24, 19, 15, 0, 0, 0, 0]\n",
      "Running time: 0.0008897781372070312\n"
     ]
    }
   ],
   "source": [
    "#PYTHON \n",
    "import time\n",
    "start = time.time()\n",
    "N, m, M = 10, 7, 24\n",
    "d = [8,8,4,8,7,7,1,2,6,7]\n",
    "s = [3,2,2,1,3,1,1,1,1,1]\n",
    "e = [7,6,6,4,7,4,4,4,4,3]\n",
    "    global ts, config, config2\n",
    "\n",
    "# d,s,e = [],[],[]\n",
    "# N, m, M = map(int,input().split())\n",
    "# for _ in range(N):\n",
    "#     de, se, ee = map(int,input().split())\n",
    "#     d.append(de)\n",
    "#     s.append(se)\n",
    "#     e.append(ee)\n",
    "d_min = min(d)   \n",
    "x = [-1]*N\n",
    "day = [0]*max(e)\n",
    "ts = 0\n",
    "config = [-1]*N\n",
    "config2 = [0]*max(e)\n",
    "def backtrack(i):\n",
    "    global ts, config, config2\n",
    "    for j in range(s[i], e[i] + 1):\n",
    "        if day[j-1]+ d[i] <= M:\n",
    "            day[j-1] += d[i]\n",
    "            x[i] = j\n",
    "            if i == N-1:\n",
    "              if sum(day) > ts:\n",
    "                  ts = sum(day)\n",
    "                  config = x.copy()\n",
    "                  config2 = day.copy()\n",
    "                \n",
    "            else:\n",
    "              if ts < sum(d):\n",
    "                backtrack(i+1)\n",
    "            day[j-1] -= d[i]\n",
    "            x[i] = -1\n",
    "backtrack(0)\n",
    "print(len(config))\n",
    "for i in range(len(config)):\n",
    "    print(i+1,config[i])\n",
    "end = time.time()\n",
    "print(config2)\n",
    "print(\"Running time:\", end-start)\n"
   ]
  },
  {
   "cell_type": "code",
   "execution_count": 22,
   "id": "a935d948",
   "metadata": {},
   "outputs": [
    {
     "name": "stdout",
     "output_type": "stream",
     "text": [
      "folk\n"
     ]
    }
   ],
   "source": [
    "import numpy as np\n",
    "a = [14,13,12]\n",
    "if (np.all(np.array(a) > 3)):\n",
    "    print('folk')"
   ]
  },
  {
   "cell_type": "code",
   "execution_count": 26,
   "id": "09d0cb5c",
   "metadata": {},
   "outputs": [
    {
     "name": "stdout",
     "output_type": "stream",
     "text": [
      "8\n"
     ]
    }
   ],
   "source": [
    "a = [1,4,6,7,9]\n",
    "differences = sum(a[i] - a[i-1] for i in range(1, len(a)))\n",
    "print(differences)"
   ]
  },
  {
   "cell_type": "code",
   "execution_count": 40,
   "id": "b5ed5724",
   "metadata": {},
   "outputs": [
    {
     "name": "stdout",
     "output_type": "stream",
     "text": [
      "10 7 24\n",
      "8 3 7\n",
      "8 2 6\n",
      "4 2 6\n",
      "8 1 4\n",
      "7 3 7\n",
      "7 1 4\n",
      "1 1 4\n",
      "2 1 4\n",
      "6 1 4\n",
      "7 1 3\n",
      "0\n"
     ]
    }
   ],
   "source": [
    "\n",
    "from operator import itemgetter\n",
    "N, m, M = map(int, input().split())\n",
    "fields = []\n",
    "for i in range(N):\n",
    "    v, s, e = map(int, input().split())\n",
    "    fields.append((v, s, e, i+1))\n",
    "        \n",
    "def solve(N,m,M,fields):\n",
    "    fields.sort(key=itemgetter(1, 2))\n",
    "    days = [0] * (N+1) \n",
    "    harvested = []  \n",
    "    for d, s, e, i in fields:\n",
    "        for day in range(s, e+1):\n",
    "            if days[day] + d <= M:\n",
    "                days[day] += d\n",
    "                harvested.append((i, day))\n",
    "                break\n",
    "    harvested = [(i, day) for i, day in harvested if days[day] >= m]\n",
    "    harvested.sort(key=itemgetter(0))\n",
    "\n",
    "    print(len(harvested))\n",
    "    for i, day in harvested:\n",
    "        print(i, day)\n",
    "solve(N,m,M,fields)\n"
   ]
  },
  {
   "cell_type": "code",
   "execution_count": 24,
   "id": "2f7dd447",
   "metadata": {},
   "outputs": [
    {
     "ename": "KeyboardInterrupt",
     "evalue": "Interrupted by user",
     "output_type": "error",
     "traceback": [
      "\u001b[0;31m---------------------------------------------------------------------------\u001b[0m",
      "\u001b[0;31mKeyboardInterrupt\u001b[0m                         Traceback (most recent call last)",
      "Cell \u001b[0;32mIn[24], line 4\u001b[0m\n\u001b[1;32m      2\u001b[0m fields \u001b[38;5;241m=\u001b[39m []\n\u001b[1;32m      3\u001b[0m \u001b[38;5;28;01mfor\u001b[39;00m i \u001b[38;5;129;01min\u001b[39;00m \u001b[38;5;28mrange\u001b[39m(N):\n\u001b[0;32m----> 4\u001b[0m     v, s, e \u001b[38;5;241m=\u001b[39m \u001b[38;5;28mmap\u001b[39m(\u001b[38;5;28mint\u001b[39m, \u001b[38;5;28;43minput\u001b[39;49m\u001b[43m(\u001b[49m\u001b[43m)\u001b[49m\u001b[38;5;241m.\u001b[39msplit())\n\u001b[1;32m      5\u001b[0m     fields\u001b[38;5;241m.\u001b[39mappend((v, s, e))\n\u001b[1;32m      7\u001b[0m field\u001b[38;5;241m.\u001b[39msort(key\u001b[38;5;241m=\u001b[39mitemgetter(\u001b[38;5;241m1\u001b[39m,\u001b[38;5;241m2\u001b[39m))\n",
      "File \u001b[0;32m~/.local/lib/python3.10/site-packages/ipykernel/kernelbase.py:1191\u001b[0m, in \u001b[0;36mKernel.raw_input\u001b[0;34m(self, prompt)\u001b[0m\n\u001b[1;32m   1189\u001b[0m     msg \u001b[38;5;241m=\u001b[39m \u001b[38;5;124m\"\u001b[39m\u001b[38;5;124mraw_input was called, but this frontend does not support input requests.\u001b[39m\u001b[38;5;124m\"\u001b[39m\n\u001b[1;32m   1190\u001b[0m     \u001b[38;5;28;01mraise\u001b[39;00m StdinNotImplementedError(msg)\n\u001b[0;32m-> 1191\u001b[0m \u001b[38;5;28;01mreturn\u001b[39;00m \u001b[38;5;28;43mself\u001b[39;49m\u001b[38;5;241;43m.\u001b[39;49m\u001b[43m_input_request\u001b[49m\u001b[43m(\u001b[49m\n\u001b[1;32m   1192\u001b[0m \u001b[43m    \u001b[49m\u001b[38;5;28;43mstr\u001b[39;49m\u001b[43m(\u001b[49m\u001b[43mprompt\u001b[49m\u001b[43m)\u001b[49m\u001b[43m,\u001b[49m\n\u001b[1;32m   1193\u001b[0m \u001b[43m    \u001b[49m\u001b[38;5;28;43mself\u001b[39;49m\u001b[38;5;241;43m.\u001b[39;49m\u001b[43m_parent_ident\u001b[49m\u001b[43m[\u001b[49m\u001b[38;5;124;43m\"\u001b[39;49m\u001b[38;5;124;43mshell\u001b[39;49m\u001b[38;5;124;43m\"\u001b[39;49m\u001b[43m]\u001b[49m\u001b[43m,\u001b[49m\n\u001b[1;32m   1194\u001b[0m \u001b[43m    \u001b[49m\u001b[38;5;28;43mself\u001b[39;49m\u001b[38;5;241;43m.\u001b[39;49m\u001b[43mget_parent\u001b[49m\u001b[43m(\u001b[49m\u001b[38;5;124;43m\"\u001b[39;49m\u001b[38;5;124;43mshell\u001b[39;49m\u001b[38;5;124;43m\"\u001b[39;49m\u001b[43m)\u001b[49m\u001b[43m,\u001b[49m\n\u001b[1;32m   1195\u001b[0m \u001b[43m    \u001b[49m\u001b[43mpassword\u001b[49m\u001b[38;5;241;43m=\u001b[39;49m\u001b[38;5;28;43;01mFalse\u001b[39;49;00m\u001b[43m,\u001b[49m\n\u001b[1;32m   1196\u001b[0m \u001b[43m\u001b[49m\u001b[43m)\u001b[49m\n",
      "File \u001b[0;32m~/.local/lib/python3.10/site-packages/ipykernel/kernelbase.py:1234\u001b[0m, in \u001b[0;36mKernel._input_request\u001b[0;34m(self, prompt, ident, parent, password)\u001b[0m\n\u001b[1;32m   1231\u001b[0m \u001b[38;5;28;01mexcept\u001b[39;00m \u001b[38;5;167;01mKeyboardInterrupt\u001b[39;00m:\n\u001b[1;32m   1232\u001b[0m     \u001b[38;5;66;03m# re-raise KeyboardInterrupt, to truncate traceback\u001b[39;00m\n\u001b[1;32m   1233\u001b[0m     msg \u001b[38;5;241m=\u001b[39m \u001b[38;5;124m\"\u001b[39m\u001b[38;5;124mInterrupted by user\u001b[39m\u001b[38;5;124m\"\u001b[39m\n\u001b[0;32m-> 1234\u001b[0m     \u001b[38;5;28;01mraise\u001b[39;00m \u001b[38;5;167;01mKeyboardInterrupt\u001b[39;00m(msg) \u001b[38;5;28;01mfrom\u001b[39;00m \u001b[38;5;28mNone\u001b[39m\n\u001b[1;32m   1235\u001b[0m \u001b[38;5;28;01mexcept\u001b[39;00m \u001b[38;5;167;01mException\u001b[39;00m:\n\u001b[1;32m   1236\u001b[0m     \u001b[38;5;28mself\u001b[39m\u001b[38;5;241m.\u001b[39mlog\u001b[38;5;241m.\u001b[39mwarning(\u001b[38;5;124m\"\u001b[39m\u001b[38;5;124mInvalid Message:\u001b[39m\u001b[38;5;124m\"\u001b[39m, exc_info\u001b[38;5;241m=\u001b[39m\u001b[38;5;28;01mTrue\u001b[39;00m)\n",
      "\u001b[0;31mKeyboardInterrupt\u001b[0m: Interrupted by user"
     ]
    }
   ],
   "source": [
    "from operator import itemgetter\n",
    "fields = []\n",
    "for i in range(N):\n",
    "    v, s, e = map(int, input().split())\n",
    "    fields.append((v, s, e))\n",
    "\n",
    "field.sort(key=itemgetter(1,2))\n",
    "V,S,E = [],[],[]\n",
    "for v,s,e in fields:\n",
    "    V.append(v)\n",
    "    S.append(s)\n",
    "    E.append(e)\n",
    "print(V,S,E)\n"
   ]
  },
  {
   "cell_type": "code",
   "execution_count": null,
   "id": "fb1e1b90",
   "metadata": {},
   "outputs": [],
   "source": [
    "from operator import itemgetter\n",
    "N, m, M = map(int, input().split())\n",
    "fields = []\n",
    "for i in range(N):\n",
    "    d, s, e = map(int, input().split())\n",
    "    fields.append((d, s, e, i+1))\n",
    "# def plan(N,m,M,fields):\n",
    "#     fields.sort(key=itemgetter(1, 2))\n",
    "#     days = [0] * (N+1) \n",
    "#     harvested = []  \n",
    "#     for d, s, e, i in fields:\n",
    "#         for day in range(s, e+1):\n",
    "#             if days[day] + d <= M:\n",
    "#                 days[day] += d\n",
    "#                 harvested.append((i, day))\n",
    "#                 break\n",
    "#     harvested = [(i, day) for i, day in harvested if days[day] >= m]\n",
    "#     harvested.sort(key=itemgetter(0))\n",
    "\n",
    "#     print(len(harvested))\n",
    "#     for i, day in harvested:\n",
    "#         print(i, day)\n",
    "# plan(N,m,M,fields)\n",
    "\n",
    "def backtrack(j,harvested):\n",
    "    if j >= len(fields):\n",
    "        return \n",
    "    \n",
    "    d,s,e,i = fields[j]\n",
    "    for day in range(s,e+1):\n",
    "        if days[day] + d <= M:\n",
    "            days[day] += d\n",
    "            harvested.append((i,day))\n",
    "            break\n",
    "    backtrack(j+1,harvested)\n",
    "backtrack(0,harvested)\n",
    "harvested = [(i, day) for i, day in harvested if days[day] >= m]\n",
    "harvested.sort(key=itemgetter(0))\n",
    "\n",
    "print(len(harvested))\n",
    "for i, day in harvested:\n",
    "    print(i, day)"
   ]
  }
 ],
 "metadata": {
  "kernelspec": {
   "display_name": "Python 3 (ipykernel)",
   "language": "python",
   "name": "python3"
  },
  "language_info": {
   "codemirror_mode": {
    "name": "ipython",
    "version": 3
   },
   "file_extension": ".py",
   "mimetype": "text/x-python",
   "name": "python",
   "nbconvert_exporter": "python",
   "pygments_lexer": "ipython3",
   "version": "3.10.9"
  }
 },
 "nbformat": 4,
 "nbformat_minor": 5
}
